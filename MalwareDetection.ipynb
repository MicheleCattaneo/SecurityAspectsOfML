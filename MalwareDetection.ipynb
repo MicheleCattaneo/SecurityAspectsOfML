{
  "nbformat": 4,
  "nbformat_minor": 0,
  "metadata": {
    "colab": {
      "provenance": []
    },
    "kernelspec": {
      "name": "python3",
      "display_name": "Python 3"
    },
    "language_info": {
      "name": "python"
    }
  },
  "cells": [
    {
      "cell_type": "code",
      "execution_count": 28,
      "metadata": {
        "id": "92X9XGbYBAbX"
      },
      "outputs": [],
      "source": [
        "import numpy\n",
        "import torch\n",
        "import pandas as pd\n",
        "from sklearn.model_selection import train_test_split\n",
        "import sklearn\n",
        "import numpy as np\n",
        "import matplotlib.pyplot as plt\n",
        "from sklearn.metrics import confusion_matrix"
      ]
    },
    {
      "cell_type": "markdown",
      "source": [
        "Metrics:"
      ],
      "metadata": {
        "id": "5bJyJ1vFUMQF"
      }
    },
    {
      "cell_type": "code",
      "source": [
        "def precision(conf_matrix):\n",
        "  TP = conf_matrix[0][0]\n",
        "  FP = conf_matrix[0][1]\n",
        "  return TP/(TP+FP)\n",
        "\n",
        "def TPR(conf_matrix):\n",
        "  TP = conf_matrix[0][0]\n",
        "  FN = conf_matrix[1][0]\n",
        "  return TP/(TP+FN)\n",
        "\n",
        "def FPR(conf_matrix):\n",
        "  FP = conf_matrix[0][1]\n",
        "  TN = conf_matrix[1][1]\n",
        "  return FP/(FP+TN)"
      ],
      "metadata": {
        "id": "LZxsVZbDOrre"
      },
      "execution_count": 37,
      "outputs": []
    },
    {
      "cell_type": "markdown",
      "source": [
        "Get dataset and apply preprocessing"
      ],
      "metadata": {
        "id": "5dCGfWO5UQ8M"
      }
    },
    {
      "cell_type": "code",
      "source": [
        "data_file = 'drebin-215-dataset-5560malware-9476-benign.csv'\n",
        "# SOURCE: https://www.kaggle.com/datasets/shashwatwork/android-malware-dataset-for-machine-learning?select=dataset-features-categories.csv\n",
        "df = pd.read_csv(data_file)\n",
        "df = df[~df.eq('?').any(axis=1)]\n",
        "df = df[~df.eq('unknown').any(axis=1)]\n",
        "\n",
        "# B=Benign; S=Malware\n",
        "# change categorical to numerical (1=Malware, 0=Benign)\n",
        "df['class'].replace(to_replace=['S', 'B'], value=[1,0], inplace=True)\n",
        "\n",
        "X = df.values[:,:-1].astype(float)\n",
        "y = df['class'].astype('int').values\n"
      ],
      "metadata": {
        "colab": {
          "base_uri": "https://localhost:8080/"
        },
        "id": "uVGIvt_MPKez",
        "outputId": "0c1bd289-1da8-47c0-a5a8-83fd7275b11e"
      },
      "execution_count": 133,
      "outputs": [
        {
          "output_type": "stream",
          "name": "stderr",
          "text": [
            "<ipython-input-133-90628109ecb9>:2: DtypeWarning: Columns (92) have mixed types. Specify dtype option on import or set low_memory=False.\n",
            "  df = pd.read_csv(data_file)\n"
          ]
        }
      ]
    },
    {
      "cell_type": "markdown",
      "source": [
        "Get Train - Validation - Test splits"
      ],
      "metadata": {
        "id": "e_YsdbzRUY3D"
      }
    },
    {
      "cell_type": "code",
      "source": [
        "X_train, X_test, y_train, y_test = train_test_split(X, y, test_size=0.2, random_state=42, shuffle=True)\n",
        "X_train, X_val, y_train, y_val = train_test_split(X_train, y_train, test_size=0.25, random_state=42) # 0.8*0.25 = 0.2"
      ],
      "metadata": {
        "id": "_SPiwt35BEZ1"
      },
      "execution_count": 134,
      "outputs": []
    },
    {
      "cell_type": "code",
      "source": [
        "X_train = X_train.astype(float)\n",
        "X_test = X_test.astype(float)\n",
        "X_val = X_val.astype(float)"
      ],
      "metadata": {
        "id": "oZrf6f3Wdcnh"
      },
      "execution_count": 135,
      "outputs": []
    },
    {
      "cell_type": "markdown",
      "source": [
        "### Get predictions using a Random Forest Classifier"
      ],
      "metadata": {
        "id": "4oFjXOYgUd0e"
      }
    },
    {
      "cell_type": "code",
      "source": [
        "from sklearn.ensemble import RandomForestClassifier\n",
        "forest  = RandomForestClassifier(max_depth=10, random_state=0, criterion='entropy')\n",
        "forest.fit(X_train, y_train)"
      ],
      "metadata": {
        "colab": {
          "base_uri": "https://localhost:8080/",
          "height": 75
        },
        "id": "nc8CJqSTWVj0",
        "outputId": "bbc2b68d-7d14-472e-c36e-71fbb9d194e2"
      },
      "execution_count": 136,
      "outputs": [
        {
          "output_type": "execute_result",
          "data": {
            "text/plain": [
              "RandomForestClassifier(criterion='entropy', max_depth=10, random_state=0)"
            ],
            "text/html": [
              "<style>#sk-container-id-5 {color: black;background-color: white;}#sk-container-id-5 pre{padding: 0;}#sk-container-id-5 div.sk-toggleable {background-color: white;}#sk-container-id-5 label.sk-toggleable__label {cursor: pointer;display: block;width: 100%;margin-bottom: 0;padding: 0.3em;box-sizing: border-box;text-align: center;}#sk-container-id-5 label.sk-toggleable__label-arrow:before {content: \"▸\";float: left;margin-right: 0.25em;color: #696969;}#sk-container-id-5 label.sk-toggleable__label-arrow:hover:before {color: black;}#sk-container-id-5 div.sk-estimator:hover label.sk-toggleable__label-arrow:before {color: black;}#sk-container-id-5 div.sk-toggleable__content {max-height: 0;max-width: 0;overflow: hidden;text-align: left;background-color: #f0f8ff;}#sk-container-id-5 div.sk-toggleable__content pre {margin: 0.2em;color: black;border-radius: 0.25em;background-color: #f0f8ff;}#sk-container-id-5 input.sk-toggleable__control:checked~div.sk-toggleable__content {max-height: 200px;max-width: 100%;overflow: auto;}#sk-container-id-5 input.sk-toggleable__control:checked~label.sk-toggleable__label-arrow:before {content: \"▾\";}#sk-container-id-5 div.sk-estimator input.sk-toggleable__control:checked~label.sk-toggleable__label {background-color: #d4ebff;}#sk-container-id-5 div.sk-label input.sk-toggleable__control:checked~label.sk-toggleable__label {background-color: #d4ebff;}#sk-container-id-5 input.sk-hidden--visually {border: 0;clip: rect(1px 1px 1px 1px);clip: rect(1px, 1px, 1px, 1px);height: 1px;margin: -1px;overflow: hidden;padding: 0;position: absolute;width: 1px;}#sk-container-id-5 div.sk-estimator {font-family: monospace;background-color: #f0f8ff;border: 1px dotted black;border-radius: 0.25em;box-sizing: border-box;margin-bottom: 0.5em;}#sk-container-id-5 div.sk-estimator:hover {background-color: #d4ebff;}#sk-container-id-5 div.sk-parallel-item::after {content: \"\";width: 100%;border-bottom: 1px solid gray;flex-grow: 1;}#sk-container-id-5 div.sk-label:hover label.sk-toggleable__label {background-color: #d4ebff;}#sk-container-id-5 div.sk-serial::before {content: \"\";position: absolute;border-left: 1px solid gray;box-sizing: border-box;top: 0;bottom: 0;left: 50%;z-index: 0;}#sk-container-id-5 div.sk-serial {display: flex;flex-direction: column;align-items: center;background-color: white;padding-right: 0.2em;padding-left: 0.2em;position: relative;}#sk-container-id-5 div.sk-item {position: relative;z-index: 1;}#sk-container-id-5 div.sk-parallel {display: flex;align-items: stretch;justify-content: center;background-color: white;position: relative;}#sk-container-id-5 div.sk-item::before, #sk-container-id-5 div.sk-parallel-item::before {content: \"\";position: absolute;border-left: 1px solid gray;box-sizing: border-box;top: 0;bottom: 0;left: 50%;z-index: -1;}#sk-container-id-5 div.sk-parallel-item {display: flex;flex-direction: column;z-index: 1;position: relative;background-color: white;}#sk-container-id-5 div.sk-parallel-item:first-child::after {align-self: flex-end;width: 50%;}#sk-container-id-5 div.sk-parallel-item:last-child::after {align-self: flex-start;width: 50%;}#sk-container-id-5 div.sk-parallel-item:only-child::after {width: 0;}#sk-container-id-5 div.sk-dashed-wrapped {border: 1px dashed gray;margin: 0 0.4em 0.5em 0.4em;box-sizing: border-box;padding-bottom: 0.4em;background-color: white;}#sk-container-id-5 div.sk-label label {font-family: monospace;font-weight: bold;display: inline-block;line-height: 1.2em;}#sk-container-id-5 div.sk-label-container {text-align: center;}#sk-container-id-5 div.sk-container {/* jupyter's `normalize.less` sets `[hidden] { display: none; }` but bootstrap.min.css set `[hidden] { display: none !important; }` so we also need the `!important` here to be able to override the default hidden behavior on the sphinx rendered scikit-learn.org. See: https://github.com/scikit-learn/scikit-learn/issues/21755 */display: inline-block !important;position: relative;}#sk-container-id-5 div.sk-text-repr-fallback {display: none;}</style><div id=\"sk-container-id-5\" class=\"sk-top-container\"><div class=\"sk-text-repr-fallback\"><pre>RandomForestClassifier(criterion=&#x27;entropy&#x27;, max_depth=10, random_state=0)</pre><b>In a Jupyter environment, please rerun this cell to show the HTML representation or trust the notebook. <br />On GitHub, the HTML representation is unable to render, please try loading this page with nbviewer.org.</b></div><div class=\"sk-container\" hidden><div class=\"sk-item\"><div class=\"sk-estimator sk-toggleable\"><input class=\"sk-toggleable__control sk-hidden--visually\" id=\"sk-estimator-id-9\" type=\"checkbox\" checked><label for=\"sk-estimator-id-9\" class=\"sk-toggleable__label sk-toggleable__label-arrow\">RandomForestClassifier</label><div class=\"sk-toggleable__content\"><pre>RandomForestClassifier(criterion=&#x27;entropy&#x27;, max_depth=10, random_state=0)</pre></div></div></div></div></div>"
            ]
          },
          "metadata": {},
          "execution_count": 136
        }
      ]
    },
    {
      "cell_type": "code",
      "source": [
        "y_pred_test_rf = forest.predict(X_test)"
      ],
      "metadata": {
        "id": "AgP5QtAnadLL"
      },
      "execution_count": 137,
      "outputs": []
    },
    {
      "cell_type": "code",
      "source": [
        "matrix_rf = confusion_matrix(y_test, y_pred_test_rf)\n",
        "print(f'Random Forest: \\nTPR = {\"{:.3f}\".format(TPR(matrix_rf))}, FPR = {\"{:.3f}\".format(FPR(matrix_rf))}')"
      ],
      "metadata": {
        "colab": {
          "base_uri": "https://localhost:8080/"
        },
        "id": "KVWqbTutO51n",
        "outputId": "c6f981e7-c7c2-4283-cb1e-b775f190dec5"
      },
      "execution_count": 138,
      "outputs": [
        {
          "output_type": "stream",
          "name": "stdout",
          "text": [
            "Random Forest: \n",
            "TPR = 0.962, FPR = 0.021\n"
          ]
        }
      ]
    },
    {
      "cell_type": "code",
      "source": [
        "from sklearn.metrics import accuracy_score"
      ],
      "metadata": {
        "id": "TCNd_XedalxM"
      },
      "execution_count": 139,
      "outputs": []
    },
    {
      "cell_type": "code",
      "source": [
        "accuracy_score(y_test, y_pred_test_rf)"
      ],
      "metadata": {
        "colab": {
          "base_uri": "https://localhost:8080/"
        },
        "id": "nwsiqlTxa_Av",
        "outputId": "869f14d3-6e54-492e-cbe3-72c9cabc2905"
      },
      "execution_count": 140,
      "outputs": [
        {
          "output_type": "execute_result",
          "data": {
            "text/plain": [
              "0.9680744928500167"
            ]
          },
          "metadata": {},
          "execution_count": 140
        }
      ]
    },
    {
      "cell_type": "markdown",
      "source": [
        "### Get predictions using a Support Vector Machine (SVM)"
      ],
      "metadata": {
        "id": "6xi2RxA7UmPt"
      }
    },
    {
      "cell_type": "code",
      "source": [
        "from sklearn.svm import SVC\n",
        "from sklearn.pipeline import make_pipeline\n",
        "from sklearn.preprocessing import StandardScaler"
      ],
      "metadata": {
        "id": "3I9oozlIb9ug"
      },
      "execution_count": 141,
      "outputs": []
    },
    {
      "cell_type": "code",
      "source": [
        "svm_clf = make_pipeline(StandardScaler(), SVC(gamma='auto', kernel='rbf'))\n",
        "svm_clf.fit(X_train, y_train)"
      ],
      "metadata": {
        "colab": {
          "base_uri": "https://localhost:8080/",
          "height": 126
        },
        "id": "aK8wZIfEb-IS",
        "outputId": "c8bba415-5db1-49ac-f53c-1cbcaeb270db"
      },
      "execution_count": 142,
      "outputs": [
        {
          "output_type": "execute_result",
          "data": {
            "text/plain": [
              "Pipeline(steps=[('standardscaler', StandardScaler()),\n",
              "                ('svc', SVC(gamma='auto'))])"
            ],
            "text/html": [
              "<style>#sk-container-id-6 {color: black;background-color: white;}#sk-container-id-6 pre{padding: 0;}#sk-container-id-6 div.sk-toggleable {background-color: white;}#sk-container-id-6 label.sk-toggleable__label {cursor: pointer;display: block;width: 100%;margin-bottom: 0;padding: 0.3em;box-sizing: border-box;text-align: center;}#sk-container-id-6 label.sk-toggleable__label-arrow:before {content: \"▸\";float: left;margin-right: 0.25em;color: #696969;}#sk-container-id-6 label.sk-toggleable__label-arrow:hover:before {color: black;}#sk-container-id-6 div.sk-estimator:hover label.sk-toggleable__label-arrow:before {color: black;}#sk-container-id-6 div.sk-toggleable__content {max-height: 0;max-width: 0;overflow: hidden;text-align: left;background-color: #f0f8ff;}#sk-container-id-6 div.sk-toggleable__content pre {margin: 0.2em;color: black;border-radius: 0.25em;background-color: #f0f8ff;}#sk-container-id-6 input.sk-toggleable__control:checked~div.sk-toggleable__content {max-height: 200px;max-width: 100%;overflow: auto;}#sk-container-id-6 input.sk-toggleable__control:checked~label.sk-toggleable__label-arrow:before {content: \"▾\";}#sk-container-id-6 div.sk-estimator input.sk-toggleable__control:checked~label.sk-toggleable__label {background-color: #d4ebff;}#sk-container-id-6 div.sk-label input.sk-toggleable__control:checked~label.sk-toggleable__label {background-color: #d4ebff;}#sk-container-id-6 input.sk-hidden--visually {border: 0;clip: rect(1px 1px 1px 1px);clip: rect(1px, 1px, 1px, 1px);height: 1px;margin: -1px;overflow: hidden;padding: 0;position: absolute;width: 1px;}#sk-container-id-6 div.sk-estimator {font-family: monospace;background-color: #f0f8ff;border: 1px dotted black;border-radius: 0.25em;box-sizing: border-box;margin-bottom: 0.5em;}#sk-container-id-6 div.sk-estimator:hover {background-color: #d4ebff;}#sk-container-id-6 div.sk-parallel-item::after {content: \"\";width: 100%;border-bottom: 1px solid gray;flex-grow: 1;}#sk-container-id-6 div.sk-label:hover label.sk-toggleable__label {background-color: #d4ebff;}#sk-container-id-6 div.sk-serial::before {content: \"\";position: absolute;border-left: 1px solid gray;box-sizing: border-box;top: 0;bottom: 0;left: 50%;z-index: 0;}#sk-container-id-6 div.sk-serial {display: flex;flex-direction: column;align-items: center;background-color: white;padding-right: 0.2em;padding-left: 0.2em;position: relative;}#sk-container-id-6 div.sk-item {position: relative;z-index: 1;}#sk-container-id-6 div.sk-parallel {display: flex;align-items: stretch;justify-content: center;background-color: white;position: relative;}#sk-container-id-6 div.sk-item::before, #sk-container-id-6 div.sk-parallel-item::before {content: \"\";position: absolute;border-left: 1px solid gray;box-sizing: border-box;top: 0;bottom: 0;left: 50%;z-index: -1;}#sk-container-id-6 div.sk-parallel-item {display: flex;flex-direction: column;z-index: 1;position: relative;background-color: white;}#sk-container-id-6 div.sk-parallel-item:first-child::after {align-self: flex-end;width: 50%;}#sk-container-id-6 div.sk-parallel-item:last-child::after {align-self: flex-start;width: 50%;}#sk-container-id-6 div.sk-parallel-item:only-child::after {width: 0;}#sk-container-id-6 div.sk-dashed-wrapped {border: 1px dashed gray;margin: 0 0.4em 0.5em 0.4em;box-sizing: border-box;padding-bottom: 0.4em;background-color: white;}#sk-container-id-6 div.sk-label label {font-family: monospace;font-weight: bold;display: inline-block;line-height: 1.2em;}#sk-container-id-6 div.sk-label-container {text-align: center;}#sk-container-id-6 div.sk-container {/* jupyter's `normalize.less` sets `[hidden] { display: none; }` but bootstrap.min.css set `[hidden] { display: none !important; }` so we also need the `!important` here to be able to override the default hidden behavior on the sphinx rendered scikit-learn.org. See: https://github.com/scikit-learn/scikit-learn/issues/21755 */display: inline-block !important;position: relative;}#sk-container-id-6 div.sk-text-repr-fallback {display: none;}</style><div id=\"sk-container-id-6\" class=\"sk-top-container\"><div class=\"sk-text-repr-fallback\"><pre>Pipeline(steps=[(&#x27;standardscaler&#x27;, StandardScaler()),\n",
              "                (&#x27;svc&#x27;, SVC(gamma=&#x27;auto&#x27;))])</pre><b>In a Jupyter environment, please rerun this cell to show the HTML representation or trust the notebook. <br />On GitHub, the HTML representation is unable to render, please try loading this page with nbviewer.org.</b></div><div class=\"sk-container\" hidden><div class=\"sk-item sk-dashed-wrapped\"><div class=\"sk-label-container\"><div class=\"sk-label sk-toggleable\"><input class=\"sk-toggleable__control sk-hidden--visually\" id=\"sk-estimator-id-10\" type=\"checkbox\" ><label for=\"sk-estimator-id-10\" class=\"sk-toggleable__label sk-toggleable__label-arrow\">Pipeline</label><div class=\"sk-toggleable__content\"><pre>Pipeline(steps=[(&#x27;standardscaler&#x27;, StandardScaler()),\n",
              "                (&#x27;svc&#x27;, SVC(gamma=&#x27;auto&#x27;))])</pre></div></div></div><div class=\"sk-serial\"><div class=\"sk-item\"><div class=\"sk-estimator sk-toggleable\"><input class=\"sk-toggleable__control sk-hidden--visually\" id=\"sk-estimator-id-11\" type=\"checkbox\" ><label for=\"sk-estimator-id-11\" class=\"sk-toggleable__label sk-toggleable__label-arrow\">StandardScaler</label><div class=\"sk-toggleable__content\"><pre>StandardScaler()</pre></div></div></div><div class=\"sk-item\"><div class=\"sk-estimator sk-toggleable\"><input class=\"sk-toggleable__control sk-hidden--visually\" id=\"sk-estimator-id-12\" type=\"checkbox\" ><label for=\"sk-estimator-id-12\" class=\"sk-toggleable__label sk-toggleable__label-arrow\">SVC</label><div class=\"sk-toggleable__content\"><pre>SVC(gamma=&#x27;auto&#x27;)</pre></div></div></div></div></div></div></div>"
            ]
          },
          "metadata": {},
          "execution_count": 142
        }
      ]
    },
    {
      "cell_type": "code",
      "source": [],
      "metadata": {
        "id": "wUbQEdW1QPyS"
      },
      "execution_count": 142,
      "outputs": []
    },
    {
      "cell_type": "code",
      "source": [
        "y_pred_test_svm = svm_clf.predict(X_test)\n",
        "matrix_svm = confusion_matrix(y_test, y_pred_test_svm)\n",
        "print(f'SVM: \\nTPR = {\"{:.3f}\".format(TPR(matrix_svm))}, FPR = {\"{:.3f}\".format(FPR(matrix_svm))}')"
      ],
      "metadata": {
        "colab": {
          "base_uri": "https://localhost:8080/"
        },
        "id": "eQv0bl2vcQAO",
        "outputId": "b17dad7a-b2d9-4bb2-d515-0afe2a60b1b1"
      },
      "execution_count": 143,
      "outputs": [
        {
          "output_type": "stream",
          "name": "stdout",
          "text": [
            "SVM: \n",
            "TPR = 0.977, FPR = 0.010\n"
          ]
        }
      ]
    },
    {
      "cell_type": "code",
      "source": [
        "accuracy_score(y_test, y_pred_test_svm)"
      ],
      "metadata": {
        "colab": {
          "base_uri": "https://localhost:8080/"
        },
        "id": "KlKubXxeQWvc",
        "outputId": "2cbc0253-39a1-48aa-99ef-cb2f6e06eafc"
      },
      "execution_count": 144,
      "outputs": [
        {
          "output_type": "execute_result",
          "data": {
            "text/plain": [
              "0.981376787495843"
            ]
          },
          "metadata": {},
          "execution_count": 144
        }
      ]
    },
    {
      "cell_type": "code",
      "source": [
        "fig, ax = plt.subplots(figsize=(6,4))\n",
        "sklearn.metrics.RocCurveDisplay.from_estimator(forest, X_test, y_test, ax=ax, alpha=0.8, name='Random Forest')\n",
        "sklearn.metrics.RocCurveDisplay.from_estimator(svm_clf, X_test, y_test, ax=ax, name='SVM')"
      ],
      "metadata": {
        "colab": {
          "base_uri": "https://localhost:8080/",
          "height": 406
        },
        "id": "Rf9UBMZYN9Rg",
        "outputId": "37c55886-8329-422b-d5dd-330565609248"
      },
      "execution_count": 64,
      "outputs": [
        {
          "output_type": "execute_result",
          "data": {
            "text/plain": [
              "<sklearn.metrics._plot.roc_curve.RocCurveDisplay at 0x7f24c0bb89a0>"
            ]
          },
          "metadata": {},
          "execution_count": 64
        },
        {
          "output_type": "display_data",
          "data": {
            "text/plain": [
              "<Figure size 600x400 with 1 Axes>"
            ],
            "image/png": "[encoded data removed]"
          },
          "metadata": {}
        }
      ]
    },
    {
      "cell_type": "markdown",
      "source": [
        "### Get predictions using a Neural Network (NN)"
      ],
      "metadata": {
        "id": "WW_IeS9dOdbb"
      }
    },
    {
      "cell_type": "code",
      "source": [
        "import torch\n",
        "import torch.nn as nn\n",
        "import torch.nn.functional as F"
      ],
      "metadata": {
        "id": "_hQzedM1gwid"
      },
      "execution_count": 91,
      "outputs": []
    },
    {
      "cell_type": "code",
      "source": [
        "class MALWARE_CLASSIFIER(nn.Module):\n",
        "  def __init__(self, n_features, dropout=0.3):\n",
        "    super(MALWARE_CLASSIFIER, self).__init__()\n",
        "    self.L1 = nn.Linear(n_features, 64)\n",
        "    self.L2 = nn.Linear(64, 32)\n",
        "    self.dropout = nn.Dropout(p=dropout)\n",
        "    self.L3 = nn.Linear(32,2)\n",
        "    self.relu = nn.ReLU()\n",
        "    self.sigmoid = nn.Sigmoid()\n",
        "\n",
        "  def forward(self, x):\n",
        "    x = self.relu(self.L1(x))\n",
        "    x = self.sigmoid(self.L2(x))\n",
        "    x = self.dropout(x)\n",
        "    x = self.L3(x)\n",
        "\n",
        "    return x\n",
        "  \n",
        "  def get_pred(self, X):\n",
        "    '''\n",
        "    Get an array of predicted labels by applying softmax to the output layer \n",
        "    and getting the class with higher activation.\n",
        "    '''\n",
        "    with torch.no_grad():\n",
        "      outs = model(X)\n",
        "      probs = F.softmax(outs, dim=1)\n",
        "      y_hat = torch.argmax(probs, dim=1)\n",
        "      return y_hat\n",
        "\n",
        "  def get_acc(self, X, Y):\n",
        "    with torch.no_grad():\n",
        "      y_hat = self.get_pred(X)\n",
        "    \n",
        "      return (torch.eq(y_hat, Y).sum() / Y.shape[0]).item()"
      ],
      "metadata": {
        "id": "nt9Y1qm7a5h-"
      },
      "execution_count": 92,
      "outputs": []
    },
    {
      "cell_type": "code",
      "source": [
        "X_train = torch.FloatTensor(X_train)\n",
        "Y_train = torch.LongTensor(y_train)\n",
        "\n",
        "X_val = torch.FloatTensor(X_val)\n",
        "Y_val = torch.LongTensor(y_val)\n",
        "\n",
        "X_test = torch.FloatTensor(X_test)\n",
        "y_test = torch.LongTensor(y_test)\n",
        "\n",
        "\n"
      ],
      "metadata": {
        "id": "HZwgStNocUlI"
      },
      "execution_count": 118,
      "outputs": []
    },
    {
      "cell_type": "code",
      "source": [
        "model = MALWARE_CLASSIFIER(215)\n",
        "lr = 10**(-3)\n",
        "momentum = 0.9\n",
        "loss_fn = nn.CrossEntropyLoss()\n",
        "optimizer = torch.optim.SGD(model.parameters(), lr=lr, momentum=momentum)"
      ],
      "metadata": {
        "id": "fLm6uyJecYuL"
      },
      "execution_count": 119,
      "outputs": []
    },
    {
      "cell_type": "code",
      "source": [
        "max_epochs = 300\n",
        "batch_size = 64\n",
        "\n",
        "print_every = 5\n",
        "\n",
        "train_loader = torch.utils.data.DataLoader(X_train, batch_size=batch_size, num_workers=0)\n",
        "\n",
        "val_loader = torch.utils.data.DataLoader(X_val, batch_size=batch_size, num_workers=0)\n",
        "\n",
        "train_losses = []\n",
        "val_losses = []\n",
        "\n",
        "val_acc = []\n",
        "\n",
        "for epoch in range(max_epochs):\n",
        "  model.train()\n",
        "  running_loss = 0.0\n",
        "  count = 0\n",
        "  for i, data in enumerate(train_loader, 0):\n",
        "    optimizer.zero_grad()\n",
        "\n",
        "    outs = model(data)\n",
        "    loss = loss_fn(outs, Y_train[i*batch_size:(i+1)*batch_size])\n",
        "    running_loss += loss.item()\n",
        "    count += 1\n",
        "    loss.backward()\n",
        "    optimizer.step()\n",
        "  \n",
        "  with torch.no_grad():\n",
        "    val_loss = 0\n",
        "    val_count = 0\n",
        "\n",
        "    for i, data in enumerate(val_loader, 0):\n",
        "      outs = model(data)\n",
        "      loss = loss_fn(outs, Y_val[i*batch_size:(i+1)*batch_size])\n",
        "\n",
        "      val_loss += loss\n",
        "      val_count += 1\n",
        "    \n",
        "    val_acc.append(model.get_acc(X_val, Y_val))\n",
        "\n",
        "  train_losses.append(running_loss/count)\n",
        "  val_losses.append(val_loss/val_count)\n",
        "  if epoch % print_every == 0:\n",
        "    print(f'Epoch {epoch}: \\n \\t Training Loss={train_losses[-1]} Val. Loss={val_losses[-1]}')\n",
        "\n",
        "  "
      ],
      "metadata": {
        "colab": {
          "base_uri": "https://localhost:8080/"
        },
        "id": "u42p_XdaedTG",
        "outputId": "2bae0424-3c8a-44e3-e0d9-6c8adb975b8e"
      },
      "execution_count": 120,
      "outputs": [
        {
          "output_type": "stream",
          "name": "stdout",
          "text": [
            "Epoch 0: \n",
            " \t Training Loss=0.6736770969756106 Val. Loss=0.6500038504600525\n",
            "Epoch 5: \n",
            " \t Training Loss=0.6294154144347982 Val. Loss=0.6141276955604553\n",
            "Epoch 10: \n",
            " \t Training Loss=0.48113018866126417 Val. Loss=0.45695605874061584\n",
            "Epoch 15: \n",
            " \t Training Loss=0.28736914493513444 Val. Loss=0.27963176369667053\n",
            "Epoch 20: \n",
            " \t Training Loss=0.20924046788866638 Val. Loss=0.190797358751297\n",
            "Epoch 25: \n",
            " \t Training Loss=0.16878015590263595 Val. Loss=0.1604565531015396\n",
            "Epoch 30: \n",
            " \t Training Loss=0.15195590379178947 Val. Loss=0.14718033373355865\n",
            "Epoch 35: \n",
            " \t Training Loss=0.13621668591566966 Val. Loss=0.13360664248466492\n",
            "Epoch 40: \n",
            " \t Training Loss=0.12497957174976666 Val. Loss=0.12030564993619919\n",
            "Epoch 45: \n",
            " \t Training Loss=0.1151961550010857 Val. Loss=0.10684667527675629\n",
            "Epoch 50: \n",
            " \t Training Loss=0.10860036863080154 Val. Loss=0.11160226911306381\n",
            "Epoch 55: \n",
            " \t Training Loss=0.10318488601251696 Val. Loss=0.10249165445566177\n",
            "Epoch 60: \n",
            " \t Training Loss=0.10009506879810323 Val. Loss=0.09447282552719116\n",
            "Epoch 65: \n",
            " \t Training Loss=0.09747852663780358 Val. Loss=0.08948322385549545\n",
            "Epoch 70: \n",
            " \t Training Loss=0.09418397412655201 Val. Loss=0.08468379825353622\n",
            "Epoch 75: \n",
            " \t Training Loss=0.08867433593205526 Val. Loss=0.08345913141965866\n",
            "Epoch 80: \n",
            " \t Training Loss=0.08746124185780262 Val. Loss=0.08737949281930923\n",
            "Epoch 85: \n",
            " \t Training Loss=0.08659702020281172 Val. Loss=0.08238651603460312\n",
            "Epoch 90: \n",
            " \t Training Loss=0.08387121325689005 Val. Loss=0.08250590413808823\n",
            "Epoch 95: \n",
            " \t Training Loss=0.08195330898759635 Val. Loss=0.0764353945851326\n",
            "Epoch 100: \n",
            " \t Training Loss=0.0826187899719316 Val. Loss=0.07928618788719177\n",
            "Epoch 105: \n",
            " \t Training Loss=0.07911659339244695 Val. Loss=0.07944552600383759\n",
            "Epoch 110: \n",
            " \t Training Loss=0.07954733240160536 Val. Loss=0.07518737018108368\n",
            "Epoch 115: \n",
            " \t Training Loss=0.0782796122886716 Val. Loss=0.07667890936136246\n",
            "Epoch 120: \n",
            " \t Training Loss=0.0761289086972251 Val. Loss=0.07745009660720825\n",
            "Epoch 125: \n",
            " \t Training Loss=0.07964765133851386 Val. Loss=0.07247834652662277\n",
            "Epoch 130: \n",
            " \t Training Loss=0.0761465790635305 Val. Loss=0.0761813372373581\n",
            "Epoch 135: \n",
            " \t Training Loss=0.07824411120344983 Val. Loss=0.07277581840753555\n",
            "Epoch 140: \n",
            " \t Training Loss=0.07220231588427903 Val. Loss=0.06972777843475342\n",
            "Epoch 145: \n",
            " \t Training Loss=0.07437819829012485 Val. Loss=0.0724974051117897\n",
            "Epoch 150: \n",
            " \t Training Loss=0.07338859857528979 Val. Loss=0.07509547472000122\n",
            "Epoch 155: \n",
            " \t Training Loss=0.07095250027610901 Val. Loss=0.0685829222202301\n",
            "Epoch 160: \n",
            " \t Training Loss=0.07076194824267787 Val. Loss=0.068254753947258\n",
            "Epoch 165: \n",
            " \t Training Loss=0.07186432396134375 Val. Loss=0.07269962131977081\n",
            "Epoch 170: \n",
            " \t Training Loss=0.07290730038195425 Val. Loss=0.06846626847982407\n",
            "Epoch 175: \n",
            " \t Training Loss=0.07064470027883847 Val. Loss=0.06823091208934784\n",
            "Epoch 180: \n",
            " \t Training Loss=0.07138359728302304 Val. Loss=0.07204511016607285\n",
            "Epoch 185: \n",
            " \t Training Loss=0.06973150562072265 Val. Loss=0.07102301716804504\n",
            "Epoch 190: \n",
            " \t Training Loss=0.07030142901187882 Val. Loss=0.07244762033224106\n",
            "Epoch 195: \n",
            " \t Training Loss=0.06856823534248992 Val. Loss=0.07004150748252869\n",
            "Epoch 200: \n",
            " \t Training Loss=0.06926827388320198 Val. Loss=0.06677678972482681\n",
            "Epoch 205: \n",
            " \t Training Loss=0.06840385771389548 Val. Loss=0.06610173732042313\n",
            "Epoch 210: \n",
            " \t Training Loss=0.07136905927158205 Val. Loss=0.06512688845396042\n",
            "Epoch 215: \n",
            " \t Training Loss=0.07162659958744726 Val. Loss=0.0641045868396759\n",
            "Epoch 220: \n",
            " \t Training Loss=0.06967335886566352 Val. Loss=0.06602177023887634\n",
            "Epoch 225: \n",
            " \t Training Loss=0.06879944892613389 Val. Loss=0.06693074107170105\n",
            "Epoch 230: \n",
            " \t Training Loss=0.06701301327569688 Val. Loss=0.07110444456338882\n",
            "Epoch 235: \n",
            " \t Training Loss=0.06451819263108022 Val. Loss=0.06565727293491364\n",
            "Epoch 240: \n",
            " \t Training Loss=0.06487454200189904 Val. Loss=0.06711165606975555\n",
            "Epoch 245: \n",
            " \t Training Loss=0.06680855069785042 Val. Loss=0.06730516254901886\n",
            "Epoch 250: \n",
            " \t Training Loss=0.06447731101792967 Val. Loss=0.064911387860775\n",
            "Epoch 255: \n",
            " \t Training Loss=0.067428369398711 Val. Loss=0.06467276066541672\n",
            "Epoch 260: \n",
            " \t Training Loss=0.0653609269503372 Val. Loss=0.06710248440504074\n",
            "Epoch 265: \n",
            " \t Training Loss=0.06370209927954679 Val. Loss=0.06732919812202454\n",
            "Epoch 270: \n",
            " \t Training Loss=0.06319659304349347 Val. Loss=0.06849812716245651\n",
            "Epoch 275: \n",
            " \t Training Loss=0.06548866240558683 Val. Loss=0.06701870262622833\n",
            "Epoch 280: \n",
            " \t Training Loss=0.06251593575489225 Val. Loss=0.06556468456983566\n",
            "Epoch 285: \n",
            " \t Training Loss=0.06471836300078013 Val. Loss=0.06666847318410873\n",
            "Epoch 290: \n",
            " \t Training Loss=0.06284105161152093 Val. Loss=0.06562372297048569\n",
            "Epoch 295: \n",
            " \t Training Loss=0.06260136878844483 Val. Loss=0.06829329580068588\n"
          ]
        }
      ]
    },
    {
      "cell_type": "code",
      "source": [
        "fig, ax = plt.subplots(figsize=(7,4))\n",
        "ax.plot(val_acc)\n",
        "ax.set_title('Accuracy on the validation set')\n",
        "ax.grid()\n",
        "fig.show()"
      ],
      "metadata": {
        "colab": {
          "base_uri": "https://localhost:8080/",
          "height": 391
        },
        "id": "kxY_AiFC0aOV",
        "outputId": "a6fec717-02a1-47f1-88d8-5d0b01246647"
      },
      "execution_count": 121,
      "outputs": [
        {
          "output_type": "display_data",
          "data": {
            "text/plain": [
              "<Figure size 700x400 with 1 Axes>"
            ],
            "image/png": "[encoded data removed]"
          },
          "metadata": {}
        }
      ]
    },
    {
      "cell_type": "code",
      "source": [
        "fig, ax = plt.subplots(figsize=(7,4))\n",
        "ax.plot(train_losses, label='Train loss')\n",
        "ax.plot(val_losses, label='Validation loss')\n",
        "ax.set_title('Train and Validation losses')\n",
        "ax.legend()\n",
        "fig.show()"
      ],
      "metadata": {
        "colab": {
          "base_uri": "https://localhost:8080/",
          "height": 391
        },
        "id": "oSIUkn-yrjeC",
        "outputId": "3dd73f1c-4a60-42f4-98e9-9e8f55d7cf1a"
      },
      "execution_count": 122,
      "outputs": [
        {
          "output_type": "display_data",
          "data": {
            "text/plain": [
              "<Figure size 700x400 with 1 Axes>"
            ],
            "image/png": "[encoded data removed]"
          },
          "metadata": {}
        }
      ]
    },
    {
      "cell_type": "code",
      "source": [
        "y_hat = model.get_pred(X_test)\n",
        "matrix_nn = confusion_matrix(y_hat, y_test)\n",
        "print(f'Neural Network: \\nTPR = {\"{:.3f}\".format(TPR(matrix_nn))}, FPR = {\"{:.3f}\".format(FPR(matrix_nn))}')"
      ],
      "metadata": {
        "id": "vjfvAD13znTk",
        "colab": {
          "base_uri": "https://localhost:8080/"
        },
        "outputId": "264fd3d3-276d-46c6-efa9-f1a8974bb23e"
      },
      "execution_count": 123,
      "outputs": [
        {
          "output_type": "stream",
          "name": "stdout",
          "text": [
            "Neural Network: \n",
            "TPR = 0.979, FPR = 0.033\n"
          ]
        }
      ]
    },
    {
      "cell_type": "code",
      "source": [
        "print(f'NN accuracy: {model.get_acc(X_test, y_test)}')"
      ],
      "metadata": {
        "colab": {
          "base_uri": "https://localhost:8080/"
        },
        "id": "cLdxWn9JU0hi",
        "outputId": "9f32bd5c-811c-4c99-8046-b2a7efb4cdac"
      },
      "execution_count": 125,
      "outputs": [
        {
          "output_type": "stream",
          "name": "stdout",
          "text": [
            "NN accuracy: 0.9737279415130615\n"
          ]
        }
      ]
    },
    {
      "cell_type": "code",
      "source": [],
      "metadata": {
        "id": "mj6kI8TfWewP"
      },
      "execution_count": null,
      "outputs": []
    }
  ]
}