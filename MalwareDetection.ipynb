{
  "nbformat": 4,
  "nbformat_minor": 0,
  "metadata": {
    "colab": {
      "provenance": []
    },
    "kernelspec": {
      "name": "python3",
      "display_name": "Python 3"
    },
    "language_info": {
      "name": "python"
    }
  },
  "cells": [
    {
      "cell_type": "code",
      "execution_count": 317,
      "metadata": {
        "id": "92X9XGbYBAbX"
      },
      "outputs": [],
      "source": [
        "import numpy\n",
        "import torch\n",
        "import pandas as pd\n",
        "from sklearn.model_selection import train_test_split\n",
        "import sklearn\n",
        "import numpy as np\n",
        "import matplotlib.pyplot as plt\n",
        "from sklearn.metrics import confusion_matrix\n",
        "import seaborn as sns"
      ]
    },
    {
      "cell_type": "markdown",
      "source": [
        "Metrics:"
      ],
      "metadata": {
        "id": "5bJyJ1vFUMQF"
      }
    },
    {
      "cell_type": "code",
      "source": [
        "def precision(conf_matrix):\n",
        "  TN, FP, FN, TP = conf_matrix.ravel()\n",
        "  # tn, fp, fn, tp\n",
        "  # TP = conf_matrix[0][0]\n",
        "  # FP = conf_matrix[0][1]\n",
        "  return TP/(TP+FP)\n",
        "\n",
        "def TPR(conf_matrix):\n",
        "  TN, FP, FN, TP = conf_matrix.ravel()\n",
        "  # TP = conf_matrix[0][0]\n",
        "  # FN = conf_matrix[1][0]\n",
        "  return TP/(TP+FN)\n",
        "\n",
        "def FPR(conf_matrix):\n",
        "  TN, FP, FN, TP = conf_matrix.ravel()\n",
        "  # FP = conf_matrix[0][1]\n",
        "  # TN = conf_matrix[1][1]\n",
        "  return FP/(FP+TN)\n",
        "\n",
        "# TN = CM[0][0]\n",
        "# FN = CM[1][0]\n",
        "# TP = CM[1][1]\n",
        "# FP = CM[0][1]"
      ],
      "metadata": {
        "id": "LZxsVZbDOrre"
      },
      "execution_count": 318,
      "outputs": []
    },
    {
      "cell_type": "markdown",
      "source": [
        "Get dataset and apply preprocessing"
      ],
      "metadata": {
        "id": "5dCGfWO5UQ8M"
      }
    },
    {
      "cell_type": "code",
      "source": [
        "data_file = 'drebin-215-dataset-5560malware-9476-benign.csv'\n",
        "# SOURCE: https://www.kaggle.com/datasets/shashwatwork/android-malware-dataset-for-machine-learning?select=dataset-features-categories.csv\n",
        "df = pd.read_csv(data_file)\n",
        "df = df[~df.eq('?').any(axis=1)]\n",
        "df = df[~df.eq('unknown').any(axis=1)]\n",
        "\n",
        "# B=Benign; S=Malware\n",
        "# change categorical to numerical (1=Malware, 0=Benign)\n",
        "df['class'].replace(to_replace=['S', 'B'], value=[1,0], inplace=True)\n",
        "\n",
        "X = df.values[:,:-1].astype(float)\n",
        "y = df['class'].astype('int').values\n"
      ],
      "metadata": {
        "colab": {
          "base_uri": "https://localhost:8080/"
        },
        "id": "uVGIvt_MPKez",
        "outputId": "c7b19f11-b890-4f71-a8a6-0f95c7b887dd"
      },
      "execution_count": 319,
      "outputs": [
        {
          "output_type": "stream",
          "name": "stderr",
          "text": [
            "<ipython-input-319-b65a8d9c7b7b>:3: DtypeWarning: Columns (92) have mixed types. Specify dtype option on import or set low_memory=False.\n",
            "  df = pd.read_csv(data_file)\n"
          ]
        }
      ]
    },
    {
      "cell_type": "markdown",
      "source": [
        "Get Train - Validation - Test splits"
      ],
      "metadata": {
        "id": "e_YsdbzRUY3D"
      }
    },
    {
      "cell_type": "code",
      "source": [
        "X_train, X_test, y_train, y_test = train_test_split(X, y, test_size=0.2, random_state=42, shuffle=True)\n",
        "X_train, X_val, y_train, y_val = train_test_split(X_train, y_train, test_size=0.25, random_state=42) # 0.8*0.25 = 0.2"
      ],
      "metadata": {
        "id": "_SPiwt35BEZ1"
      },
      "execution_count": 320,
      "outputs": []
    },
    {
      "cell_type": "code",
      "source": [
        "X_train = X_train.astype(float)\n",
        "X_test = X_test.astype(float)\n",
        "X_val = X_val.astype(float)"
      ],
      "metadata": {
        "id": "oZrf6f3Wdcnh"
      },
      "execution_count": 321,
      "outputs": []
    },
    {
      "cell_type": "markdown",
      "source": [
        "### Get predictions using a Random Forest Classifier"
      ],
      "metadata": {
        "id": "4oFjXOYgUd0e"
      }
    },
    {
      "cell_type": "code",
      "source": [
        "from sklearn.ensemble import RandomForestClassifier\n",
        "forest  = RandomForestClassifier(max_depth=10, random_state=0, criterion='entropy')\n",
        "forest.fit(X_train, y_train)"
      ],
      "metadata": {
        "colab": {
          "base_uri": "https://localhost:8080/",
          "height": 75
        },
        "id": "nc8CJqSTWVj0",
        "outputId": "2ebba5f4-34dc-4f9e-caf2-df83551dec1f"
      },
      "execution_count": 322,
      "outputs": [
        {
          "output_type": "execute_result",
          "data": {
            "text/plain": [
              "RandomForestClassifier(criterion='entropy', max_depth=10, random_state=0)"
            ],
            "text/html": [
              "<style>#sk-container-id-7 {color: black;background-color: white;}#sk-container-id-7 pre{padding: 0;}#sk-container-id-7 div.sk-toggleable {background-color: white;}#sk-container-id-7 label.sk-toggleable__label {cursor: pointer;display: block;width: 100%;margin-bottom: 0;padding: 0.3em;box-sizing: border-box;text-align: center;}#sk-container-id-7 label.sk-toggleable__label-arrow:before {content: \"▸\";float: left;margin-right: 0.25em;color: #696969;}#sk-container-id-7 label.sk-toggleable__label-arrow:hover:before {color: black;}#sk-container-id-7 div.sk-estimator:hover label.sk-toggleable__label-arrow:before {color: black;}#sk-container-id-7 div.sk-toggleable__content {max-height: 0;max-width: 0;overflow: hidden;text-align: left;background-color: #f0f8ff;}#sk-container-id-7 div.sk-toggleable__content pre {margin: 0.2em;color: black;border-radius: 0.25em;background-color: #f0f8ff;}#sk-container-id-7 input.sk-toggleable__control:checked~div.sk-toggleable__content {max-height: 200px;max-width: 100%;overflow: auto;}#sk-container-id-7 input.sk-toggleable__control:checked~label.sk-toggleable__label-arrow:before {content: \"▾\";}#sk-container-id-7 div.sk-estimator input.sk-toggleable__control:checked~label.sk-toggleable__label {background-color: #d4ebff;}#sk-container-id-7 div.sk-label input.sk-toggleable__control:checked~label.sk-toggleable__label {background-color: #d4ebff;}#sk-container-id-7 input.sk-hidden--visually {border: 0;clip: rect(1px 1px 1px 1px);clip: rect(1px, 1px, 1px, 1px);height: 1px;margin: -1px;overflow: hidden;padding: 0;position: absolute;width: 1px;}#sk-container-id-7 div.sk-estimator {font-family: monospace;background-color: #f0f8ff;border: 1px dotted black;border-radius: 0.25em;box-sizing: border-box;margin-bottom: 0.5em;}#sk-container-id-7 div.sk-estimator:hover {background-color: #d4ebff;}#sk-container-id-7 div.sk-parallel-item::after {content: \"\";width: 100%;border-bottom: 1px solid gray;flex-grow: 1;}#sk-container-id-7 div.sk-label:hover label.sk-toggleable__label {background-color: #d4ebff;}#sk-container-id-7 div.sk-serial::before {content: \"\";position: absolute;border-left: 1px solid gray;box-sizing: border-box;top: 0;bottom: 0;left: 50%;z-index: 0;}#sk-container-id-7 div.sk-serial {display: flex;flex-direction: column;align-items: center;background-color: white;padding-right: 0.2em;padding-left: 0.2em;position: relative;}#sk-container-id-7 div.sk-item {position: relative;z-index: 1;}#sk-container-id-7 div.sk-parallel {display: flex;align-items: stretch;justify-content: center;background-color: white;position: relative;}#sk-container-id-7 div.sk-item::before, #sk-container-id-7 div.sk-parallel-item::before {content: \"\";position: absolute;border-left: 1px solid gray;box-sizing: border-box;top: 0;bottom: 0;left: 50%;z-index: -1;}#sk-container-id-7 div.sk-parallel-item {display: flex;flex-direction: column;z-index: 1;position: relative;background-color: white;}#sk-container-id-7 div.sk-parallel-item:first-child::after {align-self: flex-end;width: 50%;}#sk-container-id-7 div.sk-parallel-item:last-child::after {align-self: flex-start;width: 50%;}#sk-container-id-7 div.sk-parallel-item:only-child::after {width: 0;}#sk-container-id-7 div.sk-dashed-wrapped {border: 1px dashed gray;margin: 0 0.4em 0.5em 0.4em;box-sizing: border-box;padding-bottom: 0.4em;background-color: white;}#sk-container-id-7 div.sk-label label {font-family: monospace;font-weight: bold;display: inline-block;line-height: 1.2em;}#sk-container-id-7 div.sk-label-container {text-align: center;}#sk-container-id-7 div.sk-container {/* jupyter's `normalize.less` sets `[hidden] { display: none; }` but bootstrap.min.css set `[hidden] { display: none !important; }` so we also need the `!important` here to be able to override the default hidden behavior on the sphinx rendered scikit-learn.org. See: https://github.com/scikit-learn/scikit-learn/issues/21755 */display: inline-block !important;position: relative;}#sk-container-id-7 div.sk-text-repr-fallback {display: none;}</style><div id=\"sk-container-id-7\" class=\"sk-top-container\"><div class=\"sk-text-repr-fallback\"><pre>RandomForestClassifier(criterion=&#x27;entropy&#x27;, max_depth=10, random_state=0)</pre><b>In a Jupyter environment, please rerun this cell to show the HTML representation or trust the notebook. <br />On GitHub, the HTML representation is unable to render, please try loading this page with nbviewer.org.</b></div><div class=\"sk-container\" hidden><div class=\"sk-item\"><div class=\"sk-estimator sk-toggleable\"><input class=\"sk-toggleable__control sk-hidden--visually\" id=\"sk-estimator-id-13\" type=\"checkbox\" checked><label for=\"sk-estimator-id-13\" class=\"sk-toggleable__label sk-toggleable__label-arrow\">RandomForestClassifier</label><div class=\"sk-toggleable__content\"><pre>RandomForestClassifier(criterion=&#x27;entropy&#x27;, max_depth=10, random_state=0)</pre></div></div></div></div></div>"
            ]
          },
          "metadata": {},
          "execution_count": 322
        }
      ]
    },
    {
      "cell_type": "code",
      "source": [
        "y_pred_test_rf = forest.predict(X_test)"
      ],
      "metadata": {
        "id": "AgP5QtAnadLL"
      },
      "execution_count": 323,
      "outputs": []
    },
    {
      "cell_type": "code",
      "source": [
        "matrix_rf = confusion_matrix(y_test, y_pred_test_rf)\n",
        "print(f'Random Forest: \\nTPR = {\"{:.3f}\".format(TPR(matrix_rf))}, FPR = {\"{:.3f}\".format(FPR(matrix_rf))}')"
      ],
      "metadata": {
        "colab": {
          "base_uri": "https://localhost:8080/"
        },
        "id": "KVWqbTutO51n",
        "outputId": "1d415ce8-2171-4351-e2b7-665f21593327"
      },
      "execution_count": 324,
      "outputs": [
        {
          "output_type": "stream",
          "name": "stdout",
          "text": [
            "Random Forest: \n",
            "TPR = 0.934, FPR = 0.012\n"
          ]
        }
      ]
    },
    {
      "cell_type": "code",
      "source": [
        "from sklearn.metrics import accuracy_score"
      ],
      "metadata": {
        "id": "TCNd_XedalxM"
      },
      "execution_count": 325,
      "outputs": []
    },
    {
      "cell_type": "code",
      "source": [
        "accuracy_score(y_test, y_pred_test_rf)"
      ],
      "metadata": {
        "colab": {
          "base_uri": "https://localhost:8080/"
        },
        "id": "nwsiqlTxa_Av",
        "outputId": "1731743f-2a34-4839-dee9-60cab4ea3321"
      },
      "execution_count": 326,
      "outputs": [
        {
          "output_type": "execute_result",
          "data": {
            "text/plain": [
              "0.9680744928500167"
            ]
          },
          "metadata": {},
          "execution_count": 326
        }
      ]
    },
    {
      "cell_type": "markdown",
      "source": [
        "### Get predictions using a Support Vector Machine (SVM)"
      ],
      "metadata": {
        "id": "6xi2RxA7UmPt"
      }
    },
    {
      "cell_type": "code",
      "source": [
        "from sklearn.svm import SVC\n",
        "from sklearn.pipeline import make_pipeline\n",
        "from sklearn.preprocessing import StandardScaler"
      ],
      "metadata": {
        "id": "3I9oozlIb9ug"
      },
      "execution_count": 327,
      "outputs": []
    },
    {
      "cell_type": "code",
      "source": [
        "svm_clf = make_pipeline(StandardScaler(), SVC(gamma='auto', kernel='rbf'))\n",
        "svm_clf.fit(X_train, y_train)"
      ],
      "metadata": {
        "colab": {
          "base_uri": "https://localhost:8080/",
          "height": 126
        },
        "id": "aK8wZIfEb-IS",
        "outputId": "316a8792-36d5-451b-e279-114c98dff7d0"
      },
      "execution_count": 328,
      "outputs": [
        {
          "output_type": "execute_result",
          "data": {
            "text/plain": [
              "Pipeline(steps=[('standardscaler', StandardScaler()),\n",
              "                ('svc', SVC(gamma='auto'))])"
            ],
            "text/html": [
              "<style>#sk-container-id-8 {color: black;background-color: white;}#sk-container-id-8 pre{padding: 0;}#sk-container-id-8 div.sk-toggleable {background-color: white;}#sk-container-id-8 label.sk-toggleable__label {cursor: pointer;display: block;width: 100%;margin-bottom: 0;padding: 0.3em;box-sizing: border-box;text-align: center;}#sk-container-id-8 label.sk-toggleable__label-arrow:before {content: \"▸\";float: left;margin-right: 0.25em;color: #696969;}#sk-container-id-8 label.sk-toggleable__label-arrow:hover:before {color: black;}#sk-container-id-8 div.sk-estimator:hover label.sk-toggleable__label-arrow:before {color: black;}#sk-container-id-8 div.sk-toggleable__content {max-height: 0;max-width: 0;overflow: hidden;text-align: left;background-color: #f0f8ff;}#sk-container-id-8 div.sk-toggleable__content pre {margin: 0.2em;color: black;border-radius: 0.25em;background-color: #f0f8ff;}#sk-container-id-8 input.sk-toggleable__control:checked~div.sk-toggleable__content {max-height: 200px;max-width: 100%;overflow: auto;}#sk-container-id-8 input.sk-toggleable__control:checked~label.sk-toggleable__label-arrow:before {content: \"▾\";}#sk-container-id-8 div.sk-estimator input.sk-toggleable__control:checked~label.sk-toggleable__label {background-color: #d4ebff;}#sk-container-id-8 div.sk-label input.sk-toggleable__control:checked~label.sk-toggleable__label {background-color: #d4ebff;}#sk-container-id-8 input.sk-hidden--visually {border: 0;clip: rect(1px 1px 1px 1px);clip: rect(1px, 1px, 1px, 1px);height: 1px;margin: -1px;overflow: hidden;padding: 0;position: absolute;width: 1px;}#sk-container-id-8 div.sk-estimator {font-family: monospace;background-color: #f0f8ff;border: 1px dotted black;border-radius: 0.25em;box-sizing: border-box;margin-bottom: 0.5em;}#sk-container-id-8 div.sk-estimator:hover {background-color: #d4ebff;}#sk-container-id-8 div.sk-parallel-item::after {content: \"\";width: 100%;border-bottom: 1px solid gray;flex-grow: 1;}#sk-container-id-8 div.sk-label:hover label.sk-toggleable__label {background-color: #d4ebff;}#sk-container-id-8 div.sk-serial::before {content: \"\";position: absolute;border-left: 1px solid gray;box-sizing: border-box;top: 0;bottom: 0;left: 50%;z-index: 0;}#sk-container-id-8 div.sk-serial {display: flex;flex-direction: column;align-items: center;background-color: white;padding-right: 0.2em;padding-left: 0.2em;position: relative;}#sk-container-id-8 div.sk-item {position: relative;z-index: 1;}#sk-container-id-8 div.sk-parallel {display: flex;align-items: stretch;justify-content: center;background-color: white;position: relative;}#sk-container-id-8 div.sk-item::before, #sk-container-id-8 div.sk-parallel-item::before {content: \"\";position: absolute;border-left: 1px solid gray;box-sizing: border-box;top: 0;bottom: 0;left: 50%;z-index: -1;}#sk-container-id-8 div.sk-parallel-item {display: flex;flex-direction: column;z-index: 1;position: relative;background-color: white;}#sk-container-id-8 div.sk-parallel-item:first-child::after {align-self: flex-end;width: 50%;}#sk-container-id-8 div.sk-parallel-item:last-child::after {align-self: flex-start;width: 50%;}#sk-container-id-8 div.sk-parallel-item:only-child::after {width: 0;}#sk-container-id-8 div.sk-dashed-wrapped {border: 1px dashed gray;margin: 0 0.4em 0.5em 0.4em;box-sizing: border-box;padding-bottom: 0.4em;background-color: white;}#sk-container-id-8 div.sk-label label {font-family: monospace;font-weight: bold;display: inline-block;line-height: 1.2em;}#sk-container-id-8 div.sk-label-container {text-align: center;}#sk-container-id-8 div.sk-container {/* jupyter's `normalize.less` sets `[hidden] { display: none; }` but bootstrap.min.css set `[hidden] { display: none !important; }` so we also need the `!important` here to be able to override the default hidden behavior on the sphinx rendered scikit-learn.org. See: https://github.com/scikit-learn/scikit-learn/issues/21755 */display: inline-block !important;position: relative;}#sk-container-id-8 div.sk-text-repr-fallback {display: none;}</style><div id=\"sk-container-id-8\" class=\"sk-top-container\"><div class=\"sk-text-repr-fallback\"><pre>Pipeline(steps=[(&#x27;standardscaler&#x27;, StandardScaler()),\n",
              "                (&#x27;svc&#x27;, SVC(gamma=&#x27;auto&#x27;))])</pre><b>In a Jupyter environment, please rerun this cell to show the HTML representation or trust the notebook. <br />On GitHub, the HTML representation is unable to render, please try loading this page with nbviewer.org.</b></div><div class=\"sk-container\" hidden><div class=\"sk-item sk-dashed-wrapped\"><div class=\"sk-label-container\"><div class=\"sk-label sk-toggleable\"><input class=\"sk-toggleable__control sk-hidden--visually\" id=\"sk-estimator-id-14\" type=\"checkbox\" ><label for=\"sk-estimator-id-14\" class=\"sk-toggleable__label sk-toggleable__label-arrow\">Pipeline</label><div class=\"sk-toggleable__content\"><pre>Pipeline(steps=[(&#x27;standardscaler&#x27;, StandardScaler()),\n",
              "                (&#x27;svc&#x27;, SVC(gamma=&#x27;auto&#x27;))])</pre></div></div></div><div class=\"sk-serial\"><div class=\"sk-item\"><div class=\"sk-estimator sk-toggleable\"><input class=\"sk-toggleable__control sk-hidden--visually\" id=\"sk-estimator-id-15\" type=\"checkbox\" ><label for=\"sk-estimator-id-15\" class=\"sk-toggleable__label sk-toggleable__label-arrow\">StandardScaler</label><div class=\"sk-toggleable__content\"><pre>StandardScaler()</pre></div></div></div><div class=\"sk-item\"><div class=\"sk-estimator sk-toggleable\"><input class=\"sk-toggleable__control sk-hidden--visually\" id=\"sk-estimator-id-16\" type=\"checkbox\" ><label for=\"sk-estimator-id-16\" class=\"sk-toggleable__label sk-toggleable__label-arrow\">SVC</label><div class=\"sk-toggleable__content\"><pre>SVC(gamma=&#x27;auto&#x27;)</pre></div></div></div></div></div></div></div>"
            ]
          },
          "metadata": {},
          "execution_count": 328
        }
      ]
    },
    {
      "cell_type": "code",
      "source": [],
      "metadata": {
        "id": "wUbQEdW1QPyS"
      },
      "execution_count": 328,
      "outputs": []
    },
    {
      "cell_type": "code",
      "source": [
        "y_pred_test_svm = svm_clf.predict(X_test)\n",
        "matrix_svm = confusion_matrix(y_test, y_pred_test_svm)\n",
        "print(f'SVM: \\nTPR = {\"{:.3f}\".format(TPR(matrix_svm))}, FPR = {\"{:.3f}\".format(FPR(matrix_svm))}')"
      ],
      "metadata": {
        "colab": {
          "base_uri": "https://localhost:8080/"
        },
        "id": "eQv0bl2vcQAO",
        "outputId": "afec52f5-b592-481f-a177-bc7fe1780bb2"
      },
      "execution_count": 329,
      "outputs": [
        {
          "output_type": "stream",
          "name": "stdout",
          "text": [
            "SVM: \n",
            "TPR = 0.960, FPR = 0.006\n"
          ]
        }
      ]
    },
    {
      "cell_type": "code",
      "source": [
        "accuracy_score(y_test, y_pred_test_svm)"
      ],
      "metadata": {
        "colab": {
          "base_uri": "https://localhost:8080/"
        },
        "id": "KlKubXxeQWvc",
        "outputId": "f4555ed2-774f-48ba-d827-c9a9225ef40e"
      },
      "execution_count": 330,
      "outputs": [
        {
          "output_type": "execute_result",
          "data": {
            "text/plain": [
              "0.981376787495843"
            ]
          },
          "metadata": {},
          "execution_count": 330
        }
      ]
    },
    {
      "cell_type": "code",
      "source": [
        "fig, ax = plt.subplots(figsize=(6,4))\n",
        "sklearn.metrics.RocCurveDisplay.from_estimator(forest, X_test, y_test, ax=ax, alpha=0.8, name='Random Forest')\n",
        "sklearn.metrics.RocCurveDisplay.from_estimator(svm_clf, X_test, y_test, ax=ax, name='SVM')"
      ],
      "metadata": {
        "colab": {
          "base_uri": "https://localhost:8080/",
          "height": 406
        },
        "id": "Rf9UBMZYN9Rg",
        "outputId": "4afa75eb-5762-4e35-8687-c3df7f86a9ee"
      },
      "execution_count": 331,
      "outputs": [
        {
          "output_type": "execute_result",
          "data": {
            "text/plain": [
              "<sklearn.metrics._plot.roc_curve.RocCurveDisplay at 0x7f9fb8de7520>"
            ]
          },
          "metadata": {},
          "execution_count": 331
        },
        {
          "output_type": "display_data",
          "data": {
            "text/plain": [
              "<Figure size 600x400 with 1 Axes>"
            ],
            "image/png": "[encoded data removed]"
          },
          "metadata": {}
        }
      ]
    },
    {
      "cell_type": "markdown",
      "source": [
        "### Get predictions using a Neural Network (NN)"
      ],
      "metadata": {
        "id": "WW_IeS9dOdbb"
      }
    },
    {
      "cell_type": "code",
      "source": [
        "import torch\n",
        "import torch.nn as nn\n",
        "import torch.nn.functional as F"
      ],
      "metadata": {
        "id": "_hQzedM1gwid"
      },
      "execution_count": 332,
      "outputs": []
    },
    {
      "cell_type": "code",
      "source": [
        "class MALWARE_CLASSIFIER(nn.Module):\n",
        "  def __init__(self, n_features, dropout=0.3):\n",
        "    super(MALWARE_CLASSIFIER, self).__init__()\n",
        "    self.L1 = nn.Linear(n_features, 64)\n",
        "    self.L2 = nn.Linear(64, 32)\n",
        "    self.dropout = nn.Dropout(p=dropout)\n",
        "    self.L3 = nn.Linear(32,2)\n",
        "    self.relu = nn.ReLU()\n",
        "    self.sigmoid = nn.Sigmoid()\n",
        "\n",
        "  def forward(self, x):\n",
        "    x = self.relu(self.L1(x))\n",
        "    x = self.sigmoid(self.L2(x))\n",
        "    x = self.dropout(x)\n",
        "    x = self.L3(x)\n",
        "\n",
        "    return x\n",
        "  \n",
        "  def get_pred(self, X):\n",
        "    '''\n",
        "    Get an array of predicted labels by applying softmax to the output layer \n",
        "    and getting the class with higher activation.\n",
        "    '''\n",
        "    with torch.no_grad():\n",
        "      outs = model(X)\n",
        "      probs = F.softmax(outs, dim=1)\n",
        "      y_hat = torch.argmax(probs, dim=1)\n",
        "      return y_hat\n",
        "\n",
        "  def get_acc(self, X, Y):\n",
        "    with torch.no_grad():\n",
        "      y_hat = self.get_pred(X)\n",
        "    \n",
        "      return (torch.eq(y_hat, Y).sum() / Y.shape[0]).item()"
      ],
      "metadata": {
        "id": "nt9Y1qm7a5h-"
      },
      "execution_count": 333,
      "outputs": []
    },
    {
      "cell_type": "code",
      "source": [
        "X_train = torch.FloatTensor(X_train)\n",
        "Y_train = torch.LongTensor(y_train)\n",
        "\n",
        "X_val = torch.FloatTensor(X_val)\n",
        "Y_val = torch.LongTensor(y_val)\n",
        "\n",
        "X_test = torch.FloatTensor(X_test)\n",
        "y_test = torch.LongTensor(y_test)\n",
        "\n",
        "\n"
      ],
      "metadata": {
        "id": "HZwgStNocUlI"
      },
      "execution_count": 334,
      "outputs": []
    },
    {
      "cell_type": "code",
      "source": [
        "model = MALWARE_CLASSIFIER(215)\n",
        "lr = 10**(-3)\n",
        "momentum = 0.9\n",
        "loss_fn = nn.CrossEntropyLoss()\n",
        "optimizer = torch.optim.SGD(model.parameters(), lr=lr, momentum=momentum)"
      ],
      "metadata": {
        "id": "fLm6uyJecYuL"
      },
      "execution_count": 335,
      "outputs": []
    },
    {
      "cell_type": "code",
      "source": [
        "max_epochs = 300\n",
        "batch_size = 64\n",
        "\n",
        "print_every = 5\n",
        "\n",
        "train_loader = torch.utils.data.DataLoader(X_train, batch_size=batch_size, num_workers=0)\n",
        "\n",
        "val_loader = torch.utils.data.DataLoader(X_val, batch_size=batch_size, num_workers=0)\n",
        "\n",
        "train_losses = []\n",
        "val_losses = []\n",
        "\n",
        "val_acc = []\n",
        "\n",
        "for epoch in range(max_epochs):\n",
        "  model.train()\n",
        "  running_loss = 0.0\n",
        "  count = 0\n",
        "  for i, data in enumerate(train_loader, 0):\n",
        "    optimizer.zero_grad()\n",
        "\n",
        "    outs = model(data)\n",
        "    loss = loss_fn(outs, Y_train[i*batch_size:(i+1)*batch_size])\n",
        "    running_loss += loss.item()\n",
        "    count += 1\n",
        "    loss.backward()\n",
        "    optimizer.step()\n",
        "  \n",
        "  with torch.no_grad():\n",
        "    val_loss = 0\n",
        "    val_count = 0\n",
        "\n",
        "    for i, data in enumerate(val_loader, 0):\n",
        "      outs = model(data)\n",
        "      loss = loss_fn(outs, Y_val[i*batch_size:(i+1)*batch_size])\n",
        "\n",
        "      val_loss += loss\n",
        "      val_count += 1\n",
        "    \n",
        "    val_acc.append(model.get_acc(X_val, Y_val))\n",
        "\n",
        "  train_losses.append(running_loss/count)\n",
        "  val_losses.append(val_loss/val_count)\n",
        "  if epoch % print_every == 0:\n",
        "    print(f'Epoch {epoch}: \\n \\t Training Loss={train_losses[-1]} Val. Loss={val_losses[-1]}')\n",
        "\n",
        "  "
      ],
      "metadata": {
        "colab": {
          "base_uri": "https://localhost:8080/"
        },
        "id": "u42p_XdaedTG",
        "outputId": "4a262b4e-23c7-4a1e-a243-b93d3e62c432"
      },
      "execution_count": 336,
      "outputs": [
        {
          "output_type": "stream",
          "name": "stdout",
          "text": [
            "Epoch 0: \n",
            " \t Training Loss=0.6704148197850437 Val. Loss=0.6556329727172852\n",
            "Epoch 5: \n",
            " \t Training Loss=0.6472058089066904 Val. Loss=0.6344019174575806\n",
            "Epoch 10: \n",
            " \t Training Loss=0.5423468106181909 Val. Loss=0.509830892086029\n",
            "Epoch 15: \n",
            " \t Training Loss=0.31121846621340893 Val. Loss=0.29020580649375916\n",
            "Epoch 20: \n",
            " \t Training Loss=0.21369829562538906 Val. Loss=0.20448435842990875\n",
            "Epoch 25: \n",
            " \t Training Loss=0.17506921159248826 Val. Loss=0.18120649456977844\n",
            "Epoch 30: \n",
            " \t Training Loss=0.15392225819593625 Val. Loss=0.1479496955871582\n",
            "Epoch 35: \n",
            " \t Training Loss=0.13646041453941493 Val. Loss=0.12979474663734436\n",
            "Epoch 40: \n",
            " \t Training Loss=0.12424046525084381 Val. Loss=0.12214136868715286\n",
            "Epoch 45: \n",
            " \t Training Loss=0.11858761714811021 Val. Loss=0.11098146438598633\n",
            "Epoch 50: \n",
            " \t Training Loss=0.1107044398705376 Val. Loss=0.11176101118326187\n",
            "Epoch 55: \n",
            " \t Training Loss=0.10502742226929107 Val. Loss=0.09909674525260925\n",
            "Epoch 60: \n",
            " \t Training Loss=0.09974807648794025 Val. Loss=0.09487104415893555\n",
            "Epoch 65: \n",
            " \t Training Loss=0.09731125060125445 Val. Loss=0.09360841661691666\n",
            "Epoch 70: \n",
            " \t Training Loss=0.09508356718835256 Val. Loss=0.09064314514398575\n",
            "Epoch 75: \n",
            " \t Training Loss=0.09104979657799217 Val. Loss=0.08748660981655121\n",
            "Epoch 80: \n",
            " \t Training Loss=0.09176388509069563 Val. Loss=0.08385620266199112\n",
            "Epoch 85: \n",
            " \t Training Loss=0.08631973487741136 Val. Loss=0.08285116404294968\n",
            "Epoch 90: \n",
            " \t Training Loss=0.08677651002633234 Val. Loss=0.07957672327756882\n",
            "Epoch 95: \n",
            " \t Training Loss=0.08541362954581037 Val. Loss=0.08190880715847015\n",
            "Epoch 100: \n",
            " \t Training Loss=0.08120587855868094 Val. Loss=0.07576550543308258\n",
            "Epoch 105: \n",
            " \t Training Loss=0.08160893982342372 Val. Loss=0.07672916352748871\n",
            "Epoch 110: \n",
            " \t Training Loss=0.07669900993136226 Val. Loss=0.0806407704949379\n",
            "Epoch 115: \n",
            " \t Training Loss=0.08072331108496333 Val. Loss=0.08039762079715729\n",
            "Epoch 120: \n",
            " \t Training Loss=0.07953198370358623 Val. Loss=0.07345107197761536\n",
            "Epoch 125: \n",
            " \t Training Loss=0.07708556071610738 Val. Loss=0.07665983587503433\n",
            "Epoch 130: \n",
            " \t Training Loss=0.07837844885727192 Val. Loss=0.07513555884361267\n",
            "Epoch 135: \n",
            " \t Training Loss=0.07556536254730631 Val. Loss=0.07523194700479507\n",
            "Epoch 140: \n",
            " \t Training Loss=0.0756070962281409 Val. Loss=0.07147984951734543\n",
            "Epoch 145: \n",
            " \t Training Loss=0.07449891326737636 Val. Loss=0.07060080021619797\n",
            "Epoch 150: \n",
            " \t Training Loss=0.07261947395795203 Val. Loss=0.0716729387640953\n",
            "Epoch 155: \n",
            " \t Training Loss=0.07137616930516265 Val. Loss=0.07335074245929718\n",
            "Epoch 160: \n",
            " \t Training Loss=0.07062096796692052 Val. Loss=0.06829381734132767\n",
            "Epoch 165: \n",
            " \t Training Loss=0.07144158730507953 Val. Loss=0.06883464008569717\n",
            "Epoch 170: \n",
            " \t Training Loss=0.0704794041449138 Val. Loss=0.06896384805440903\n",
            "Epoch 175: \n",
            " \t Training Loss=0.07097317181950343 Val. Loss=0.06978479772806168\n",
            "Epoch 180: \n",
            " \t Training Loss=0.07039116222596338 Val. Loss=0.07224652916193008\n",
            "Epoch 185: \n",
            " \t Training Loss=0.06949106921897606 Val. Loss=0.06865527480840683\n",
            "Epoch 190: \n",
            " \t Training Loss=0.06894058784377491 Val. Loss=0.0706368088722229\n",
            "Epoch 195: \n",
            " \t Training Loss=0.07044798861000132 Val. Loss=0.06882359832525253\n",
            "Epoch 200: \n",
            " \t Training Loss=0.07103653901078283 Val. Loss=0.06836003810167313\n",
            "Epoch 205: \n",
            " \t Training Loss=0.06865552650328646 Val. Loss=0.06581225991249084\n",
            "Epoch 210: \n",
            " \t Training Loss=0.06706595003723781 Val. Loss=0.06773538887500763\n",
            "Epoch 215: \n",
            " \t Training Loss=0.06808973618961395 Val. Loss=0.07067184150218964\n",
            "Epoch 220: \n",
            " \t Training Loss=0.06908463635845176 Val. Loss=0.07101664692163467\n",
            "Epoch 225: \n",
            " \t Training Loss=0.06570605131143585 Val. Loss=0.06796571612358093\n",
            "Epoch 230: \n",
            " \t Training Loss=0.06674919416467455 Val. Loss=0.06574826687574387\n",
            "Epoch 235: \n",
            " \t Training Loss=0.06653994947328423 Val. Loss=0.06653531640768051\n",
            "Epoch 240: \n",
            " \t Training Loss=0.06352283224688036 Val. Loss=0.06572578102350235\n",
            "Epoch 245: \n",
            " \t Training Loss=0.06726258750080216 Val. Loss=0.061734117567539215\n",
            "Epoch 250: \n",
            " \t Training Loss=0.06379421845950345 Val. Loss=0.06451574712991714\n",
            "Epoch 255: \n",
            " \t Training Loss=0.06527162968108417 Val. Loss=0.06623604893684387\n",
            "Epoch 260: \n",
            " \t Training Loss=0.06337734664202477 Val. Loss=0.06664721667766571\n",
            "Epoch 265: \n",
            " \t Training Loss=0.06405631813108392 Val. Loss=0.06602293998003006\n",
            "Epoch 270: \n",
            " \t Training Loss=0.06495095218089245 Val. Loss=0.05919373407959938\n",
            "Epoch 275: \n",
            " \t Training Loss=0.06231871219219785 Val. Loss=0.06395220011472702\n",
            "Epoch 280: \n",
            " \t Training Loss=0.0605598654323885 Val. Loss=0.06594433635473251\n",
            "Epoch 285: \n",
            " \t Training Loss=0.06277073253976538 Val. Loss=0.0641392320394516\n",
            "Epoch 290: \n",
            " \t Training Loss=0.06258294650796034 Val. Loss=0.06254085898399353\n",
            "Epoch 295: \n",
            " \t Training Loss=0.06257940936463734 Val. Loss=0.06436137109994888\n"
          ]
        }
      ]
    },
    {
      "cell_type": "code",
      "source": [
        "fig, ax = plt.subplots(figsize=(7,4))\n",
        "ax.plot(val_acc)\n",
        "ax.set_title('Accuracy on the validation set')\n",
        "ax.grid()\n",
        "fig.show()"
      ],
      "metadata": {
        "colab": {
          "base_uri": "https://localhost:8080/",
          "height": 391
        },
        "id": "kxY_AiFC0aOV",
        "outputId": "38f9d8f5-20c6-4c76-a124-fdfaa9ae536f"
      },
      "execution_count": 337,
      "outputs": [
        {
          "output_type": "display_data",
          "data": {
            "text/plain": [
              "<Figure size 700x400 with 1 Axes>"
            ],
            "image/png": "[encoded data removed]"
          },
          "metadata": {}
        }
      ]
    },
    {
      "cell_type": "code",
      "source": [
        "fig, ax = plt.subplots(figsize=(7,4))\n",
        "ax.plot(train_losses, label='Train loss')\n",
        "ax.plot(val_losses, label='Validation loss')\n",
        "ax.set_title('Train and Validation losses')\n",
        "ax.legend()\n",
        "fig.show()"
      ],
      "metadata": {
        "colab": {
          "base_uri": "https://localhost:8080/",
          "height": 391
        },
        "id": "oSIUkn-yrjeC",
        "outputId": "04b52c2c-78d3-4a6a-c40d-8d12e5aea04e"
      },
      "execution_count": 338,
      "outputs": [
        {
          "output_type": "display_data",
          "data": {
            "text/plain": [
              "<Figure size 700x400 with 1 Axes>"
            ],
            "image/png": "[encoded data removed]"
          },
          "metadata": {}
        }
      ]
    },
    {
      "cell_type": "code",
      "source": [
        "y_hat = model.get_pred(X_test)\n",
        "matrix_nn = confusion_matrix(y_test, y_hat)\n",
        "print(f'Neural Network: \\nTPR = {\"{:.3f}\".format(TPR(matrix_nn))}, FPR = {\"{:.3f}\".format(FPR(matrix_nn))}')"
      ],
      "metadata": {
        "id": "vjfvAD13znTk",
        "colab": {
          "base_uri": "https://localhost:8080/"
        },
        "outputId": "11aa6049-ad21-4720-c764-8e9c2c154570"
      },
      "execution_count": 350,
      "outputs": [
        {
          "output_type": "stream",
          "name": "stdout",
          "text": [
            "Neural Network: \n",
            "TPR = 0.964, FPR = 0.021\n"
          ]
        }
      ]
    },
    {
      "cell_type": "code",
      "source": [
        "print(f'NN accuracy: {model.get_acc(X_test, y_test)}')"
      ],
      "metadata": {
        "colab": {
          "base_uri": "https://localhost:8080/"
        },
        "id": "cLdxWn9JU0hi",
        "outputId": "b01ef483-b6e1-4bca-f91a-ccc6767097a1"
      },
      "execution_count": 351,
      "outputs": [
        {
          "output_type": "stream",
          "name": "stdout",
          "text": [
            "NN accuracy: 0.9743930697441101\n"
          ]
        }
      ]
    },
    {
      "cell_type": "markdown",
      "source": [
        "# Try to trick the NN model\n",
        "\n"
      ],
      "metadata": {
        "id": "tqFmNKWBzryv"
      }
    },
    {
      "cell_type": "code",
      "source": [
        "# (1=Malware, 0=Benign)\n",
        "malwares = X[df['class'] == 1]\n",
        "normal = X[df['class'] == 0]"
      ],
      "metadata": {
        "id": "mj6kI8TfWewP"
      },
      "execution_count": 352,
      "outputs": []
    },
    {
      "cell_type": "markdown",
      "source": [
        "Get the mean features of the malwares and the normal softwares.\n",
        "\n",
        "Get the difference of the means. Positive values in this difference represents features that are on average more used by normal software than by malwares. We can try to trick a model by adding features to malwares (add noise to the malware behaviour while keeping its intended behaviour). Of course we can not remove features, otherwise we would change the malware behaviour."
      ],
      "metadata": {
        "id": "J_SwY7_5zzlx"
      }
    },
    {
      "cell_type": "code",
      "source": [
        "malware_meanfeatures = malwares.mean(axis=0)\n",
        "normal_meanfeatures = normal.mean(axis=0)\n",
        "diff = normal_meanfeatures-malware_meanfeatures\n",
        "th = 0.15\n",
        "trick_features = diff > th"
      ],
      "metadata": {
        "id": "EANiwhNJv8QQ"
      },
      "execution_count": 353,
      "outputs": []
    },
    {
      "cell_type": "code",
      "source": [
        "fig, ax = plt.subplots(figsize=(7,4))\n",
        "color = [{e<0: 'tomato', 0<=e<=th: 'orange', e>th: 'limegreen'}[True] for e in diff]\n",
        "ax.bar([i for i in range(len(diff))], diff, color=color)\n",
        "ax.set_title('Green features are those more likely to be in normal software')\n",
        "fig.show()\n"
      ],
      "metadata": {
        "colab": {
          "base_uri": "https://localhost:8080/",
          "height": 391
        },
        "id": "24SCiBoLwKy6",
        "outputId": "0b52f7a1-b781-458c-daae-b388467e961d"
      },
      "execution_count": 381,
      "outputs": [
        {
          "output_type": "display_data",
          "data": {
            "text/plain": [
              "<Figure size 700x400 with 1 Axes>"
            ],
            "image/png": "[encoded data removed]"
          },
          "metadata": {}
        }
      ]
    },
    {
      "cell_type": "code",
      "source": [
        "some_malware = malwares[1]\n",
        "some_malware[trick_features] = 1\n",
        "\n",
        "model.get_pred(torch.FloatTensor(some_malware.reshape(1,-1)))"
      ],
      "metadata": {
        "colab": {
          "base_uri": "https://localhost:8080/"
        },
        "id": "I5kKAp8-wn3t",
        "outputId": "2f80c7b1-aa5c-4cc0-faeb-e319393eccfe"
      },
      "execution_count": 355,
      "outputs": [
        {
          "output_type": "execute_result",
          "data": {
            "text/plain": [
              "tensor([0])"
            ]
          },
          "metadata": {},
          "execution_count": 355
        }
      ]
    },
    {
      "cell_type": "code",
      "source": [
        "# For each malware row, add a 1 on the previously defined features\n",
        "# that are more likely to be found in a normal software.\n",
        "X_tricked = X_test.clone().detach()\n",
        "malwares_indices = y_test == 1\n",
        "for i in range(X_tricked.shape[0]):\n",
        "  if not malwares_indices[i]:\n",
        "    continue\n",
        "  for j in range(X_tricked.shape[1]):\n",
        "    if trick_features[j]:\n",
        "      X_tricked[i,j] = 1\n"
      ],
      "metadata": {
        "id": "ejQDetjH8Rzw"
      },
      "execution_count": 366,
      "outputs": []
    },
    {
      "cell_type": "code",
      "source": [
        "y_hat_tricked = model.get_pred(X_tricked)\n",
        "matrix_nn = confusion_matrix(y_test, y_hat_tricked)\n",
        "print(f'Neural Network with tricked values: \\nTPR = {\"{:.3f}\".format(TPR(matrix_nn))}, FPR = {\"{:.3f}\".format(FPR(matrix_nn))}')"
      ],
      "metadata": {
        "colab": {
          "base_uri": "https://localhost:8080/"
        },
        "id": "u5jnXVuX2gE1",
        "outputId": "7bf34e03-a995-4b99-da8d-0d6c924e2fe3"
      },
      "execution_count": 382,
      "outputs": [
        {
          "output_type": "stream",
          "name": "stdout",
          "text": [
            "Neural Network with tricked values: \n",
            "TPR = 0.000, FPR = 0.022\n"
          ]
        }
      ]
    },
    {
      "cell_type": "code",
      "source": [
        "print(f'NN accuracy with tricked values: {model.get_acc(X_tricked, y_test)}')"
      ],
      "metadata": {
        "colab": {
          "base_uri": "https://localhost:8080/"
        },
        "id": "YKVjsTDmyrBD",
        "outputId": "4ca076e4-2ff1-4446-8c09-06916b7bd76a"
      },
      "execution_count": 383,
      "outputs": [
        {
          "output_type": "stream",
          "name": "stdout",
          "text": [
            "NN accuracy with tricked values: 0.6142334342002869\n"
          ]
        }
      ]
    },
    {
      "cell_type": "code",
      "source": [
        "# Note that the accuracy corresponds to the fraction of normal softwares.\n",
        "# The model is not able to recognize any malware anymore!!\n",
        "y_test[y_test==0].shape[0] / y_test.shape[0]"
      ],
      "metadata": {
        "colab": {
          "base_uri": "https://localhost:8080/"
        },
        "id": "znDpZFMD_v84",
        "outputId": "ad7eb279-4d2a-409d-a851-564fa0742202"
      },
      "execution_count": 384,
      "outputs": [
        {
          "output_type": "execute_result",
          "data": {
            "text/plain": [
              "0.627203192550715"
            ]
          },
          "metadata": {},
          "execution_count": 384
        }
      ]
    },
    {
      "cell_type": "code",
      "source": [],
      "metadata": {
        "id": "3x7rqVtZDOPA"
      },
      "execution_count": null,
      "outputs": []
    }
  ]
}