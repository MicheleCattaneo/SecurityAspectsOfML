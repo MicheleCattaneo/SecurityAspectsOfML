{
 "cells": [
  {
   "cell_type": "code",
   "execution_count": 50,
   "metadata": {},
   "outputs": [],
   "source": [
    "import numpy as np\n",
    "import matplotlib.pyplot as plt\n",
    "from sklearn.metrics import confusion_matrix\n",
    "from sklearn.metrics import roc_curve, roc_auc_score"
   ]
  },
  {
   "cell_type": "code",
   "execution_count": 51,
   "metadata": {},
   "outputs": [],
   "source": [
    "rng = np.random.default_rng(seed=42)\n",
    "\n",
    "# data to build forest on\n",
    "data = rng.normal(loc=[2, 5, 2, 5], scale=2, size=[400, 4])\n",
    "outliers = rng.normal(loc=[2, 0, 2, 0], scale=2, size=[10, 4])\n",
    "\n",
    "# data to test with\n",
    "test_num_normal = 200\n",
    "test_num_outlier = 20\n",
    "testdata = np.vstack((rng.normal(loc=[2, 5, 2, 5], scale=2, size=[test_num_normal, 4]), \n",
    "                     rng.normal(loc=[2, 0, 2, 0], scale=2, size=[test_num_outlier, 4])))"
   ]
  },
  {
   "cell_type": "code",
   "execution_count": 52,
   "metadata": {},
   "outputs": [],
   "source": [
    "class iTree:\n",
    "    def __init__(self, D, e, l):\n",
    "        \"\"\"\n",
    "        constructs an isolation tree given the input parameters:\n",
    "        :D: is the dataset\n",
    "        :e: is the current path length\n",
    "        :l: is the maximum path length\n",
    "        \"\"\"\n",
    "        if D.shape[0] == 1 or e == l: # base case\n",
    "          self.data = D\n",
    "          self.e = e\n",
    "          self.is_leaf = True\n",
    "\n",
    "        else:\n",
    "          # pick rand feature \n",
    "          dim = np.random.randint(0, D.shape[1])\n",
    "          self.dim = dim\n",
    "          max_v = np.max(D[:,dim])\n",
    "          min_v = np.min(D[:,dim])\n",
    "          # pick random value\n",
    "          rand_v = np.random.uniform(min_v,max_v)\n",
    "\n",
    "          # filter left and right data\n",
    "          left_data = D[D[:,dim] < rand_v]\n",
    "          right_data = D[D[:,dim] >= rand_v]\n",
    "\n",
    "          self.split_val = rand_v\n",
    "          self.dim = dim\n",
    "          self.is_leaf = False\n",
    "          self.e = e\n",
    "          self.left = iTree(left_data, e+1, l)\n",
    "          self.right = iTree(right_data, e+1, l)\n",
    "\n",
    "    \n",
    "    def test(self, o):\n",
    "        \"\"\"\n",
    "        test the datapoint :o: against this tree, returns the path length\n",
    "        \"\"\"\n",
    "        if self.is_leaf:\n",
    "          return self.e\n",
    "        else:\n",
    "          if o[self.dim] < self.split_val:\n",
    "            return self.left.test(o)\n",
    "          return self.right.test(o)\n"
   ]
  },
  {
   "cell_type": "code",
   "execution_count": 53,
   "metadata": {},
   "outputs": [],
   "source": [
    "class iForest:\n",
    "    def __init__(self, D, t, phi, max_depth=50):\n",
    "        \"\"\"\n",
    "        Constructs an Isolation Forest given the input parameters:\n",
    "        :D: the dataset\n",
    "        :t: number of isolation trees\n",
    "        :phi: size of subset to take from D\n",
    "        \"\"\"\n",
    "        trees = []\n",
    "\n",
    "        for k in range(t):\n",
    "          # get random subset of size phi\n",
    "          indices = np.random.permutation(D.shape[0])[:phi]\n",
    "          subset = D[indices,:]\n",
    "          trees.append(iTree(subset,0,max_depth))\n",
    "\n",
    "        self.trees = trees\n",
    "        self.phi = phi\n",
    "    \n",
    "    def test(self, o):\n",
    "        \"\"\"\n",
    "        Tests the given datapoint :o: on the isolation trees and returns the average path length.\n",
    "        \"\"\"\n",
    "        depth_sum = 0\n",
    "        for t in self.trees:\n",
    "          depth = t.test(o)\n",
    "          depth_sum += depth\n",
    "          \n",
    "        return depth_sum / len(self.trees)\n",
    "\n",
    "    def score(self, x):\n",
    "      \"\"\"\n",
    "      Gives a score in [0,1] to a datapoint.\n",
    "      \"\"\"\n",
    "      avg_pl = self.test(x)\n",
    "      c = 2*(np.log(self.phi - 1) + 0.5772156649) - 2*(self.phi - 1)/self.phi\n",
    "      return 2**(-avg_pl/c)"
   ]
  },
  {
   "cell_type": "code",
   "execution_count": 54,
   "metadata": {},
   "outputs": [],
   "source": [
    "tainted_data = np.vstack((outliers, data))\n",
    "untainted_data = data\n",
    "\n",
    "testdata_labels = np.hstack((\n",
    "    np.array([0 for i in range(test_num_normal)]),\n",
    "    np.array([1 for i in range(test_num_outlier)])))"
   ]
  },
  {
   "cell_type": "code",
   "execution_count": 55,
   "metadata": {},
   "outputs": [],
   "source": [
    "# hyper params:\n",
    "n_trees = 300\n",
    "phi = 100\n",
    "max_depth = 6\n",
    "\n",
    "tainted_data_forest = iForest(tainted_data, n_trees, phi, max_depth=max_depth)\n",
    "untainted_data_forest = iForest(untainted_data, n_trees, phi, max_depth=max_depth)"
   ]
  },
  {
   "cell_type": "code",
   "execution_count": 56,
   "metadata": {},
   "outputs": [],
   "source": [
    "t_f_scores = np.zeros((testdata_labels.shape[0],))\n",
    "for i,d in enumerate(testdata):\n",
    "  t_f_scores[i] = tainted_data_forest.score(d)\n",
    "\n",
    "ut_f_scores = np.zeros((testdata_labels.shape[0],))\n",
    "for i,d in enumerate(testdata):\n",
    "  ut_f_scores[i] = untainted_data_forest.score(d)\n",
    "\n",
    "t_f_fpr, t_f_tpr, t_f_thresholds = roc_curve(testdata_labels, t_f_scores)\n",
    "t_f_auc = roc_auc_score(testdata_labels, t_f_scores)\n",
    "\n",
    "ut_f_fpr, ut_f_tpr, ut_f_thresholds = roc_curve(testdata_labels, ut_f_scores)\n",
    "ut_f_auc = roc_auc_score(testdata_labels, ut_f_scores)"
   ]
  },
  {
   "cell_type": "code",
   "execution_count": 57,
   "metadata": {},
   "outputs": [
    {
     "data": {
      "image/png": "[encoded data removed]",
      "text/plain": [
       "<Figure size 600x500 with 1 Axes>"
      ]
     },
     "metadata": {},
     "output_type": "display_data"
    }
   ],
   "source": [
    "fig, ax = plt.subplots(figsize=[6, 5])\n",
    "ax.grid()\n",
    "\n",
    "ax.plot(t_f_fpr, t_f_tpr, linestyle='-', \n",
    "            marker='o', color='forestgreen', markersize=4,\n",
    "            label=f'Tainted data. AUC={\"{:.3f}\".format(t_f_auc)}')\n",
    "\n",
    "ax.plot(ut_f_fpr, ut_f_tpr, linestyle='-', \n",
    "            marker='x', color='tomato', markersize=4,\n",
    "            label=f'Untainted data. AUC={\"{:.3f}\".format(ut_f_auc)}')\n",
    "\n",
    "ax.set_xlabel('FPR')\n",
    "ax.set_ylabel('TPR')\n",
    "ax.legend()\n",
    "ax.set_yticks(np.arange(0,1.1,0.1))\n",
    "plt.show()"
   ]
  },
  {
   "cell_type": "code",
   "execution_count": 58,
   "metadata": {},
   "outputs": [
    {
     "name": "stdout",
     "output_type": "stream",
     "text": [
      "Threshold chosen yields: TPR=0.9, FPR=0.075\n"
     ]
    }
   ],
   "source": [
    "# max allower false positive rate\n",
    "MAX_FPR = 0.075\n",
    "\n",
    "# loop in the false positive ratios, \n",
    "# pick the last cut index that yielded less than MAX_FPR\n",
    "cut_index = 0\n",
    "for i,rate in enumerate(ut_f_fpr):\n",
    "  if rate > MAX_FPR:\n",
    "    cut_index = i-1\n",
    "    print(f'Threshold chosen yields: TPR={ut_f_tpr[i-1]}, FPR={ut_f_fpr[i-1]}')\n",
    "    break\n",
    "\n",
    "threshold = ut_f_thresholds[cut_index]\n",
    "def detect(datapoint, threshold, forest):\n",
    "    \"\"\"\n",
    "    Returns 1 if the given datapoint is an anomaly, 0 otherwise.\n",
    "    \"\"\"\n",
    "    score = forest.score(datapoint)\n",
    "    \n",
    "    if score >= threshold:\n",
    "      return 1\n",
    "    return 0 "
   ]
  },
  {
   "cell_type": "code",
   "execution_count": 59,
   "metadata": {},
   "outputs": [],
   "source": [
    "def precision(conf_matrix):\n",
    "  _, FP, _, TP = conf_matrix.ravel()\n",
    "  return TP/(TP+FP)\n",
    "\n",
    "def TPR(conf_matrix):\n",
    "  _, _, FN, TP = conf_matrix.ravel()\n",
    "  return TP/(TP+FN)\n",
    "\n",
    "def FPR(conf_matrix):\n",
    "  TN, FP, _, _ = conf_matrix.ravel()\n",
    "  return FP/(FP+TN)"
   ]
  },
  {
   "cell_type": "code",
   "execution_count": 60,
   "metadata": {},
   "outputs": [],
   "source": [
    "matrix = confusion_matrix(testdata_labels, \n",
    "                        [detect(datapoint, threshold, untainted_data_forest) \n",
    "                        for datapoint in testdata])"
   ]
  },
  {
   "cell_type": "code",
   "execution_count": 61,
   "metadata": {},
   "outputs": [
    {
     "name": "stdout",
     "output_type": "stream",
     "text": [
      "Results: \n",
      "TPR = 0.900, \n",
      "FPR = 0.075, \n",
      "Precision = 0.545\n"
     ]
    }
   ],
   "source": [
    "print(f'''Results: \n",
    "TPR = {\"{:.3f}\".format(TPR(matrix))}, \n",
    "FPR = {\"{:.3f}\".format(FPR(matrix))}, \n",
    "Precision = {\"{:.3f}\".format(precision(matrix))}''')"
   ]
  },
  {
   "cell_type": "code",
   "execution_count": null,
   "metadata": {},
   "outputs": [],
   "source": []
  }
 ],
 "metadata": {
  "kernelspec": {
   "display_name": "genericML",
   "language": "python",
   "name": "python3"
  },
  "language_info": {
   "codemirror_mode": {
    "name": "ipython",
    "version": 3
   },
   "file_extension": ".py",
   "mimetype": "text/x-python",
   "name": "python",
   "nbconvert_exporter": "python",
   "pygments_lexer": "ipython3",
   "version": "3.10.8"
  },
  "orig_nbformat": 4,
  "vscode": {
   "interpreter": {
    "hash": "eebce4e499db053b9982becff7cf060520e123aef739c5d63ca1a322644741d7"
   }
  }
 },
 "nbformat": 4,
 "nbformat_minor": 2
}
